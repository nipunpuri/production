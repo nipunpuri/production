{
 "cells": [
  {
   "cell_type": "code",
   "execution_count": 3,
   "metadata": {},
   "outputs": [
    {
     "name": "stdout",
     "output_type": "stream",
     "text": [
      "The dotenv extension is already loaded. To reload it, use:\n",
      "  %reload_ext dotenv\n"
     ]
    },
    {
     "ename": "ImportError",
     "evalue": "cannot import name 'get_logger' from 'logger' (/opt/anaconda3/envs/dsi_participant/lib/python3.9/site-packages/logger/__init__.py)",
     "output_type": "error",
     "traceback": [
      "\u001b[0;31m---------------------------------------------------------------------------\u001b[0m",
      "\u001b[0;31mImportError\u001b[0m                               Traceback (most recent call last)",
      "Cell \u001b[0;32mIn[3], line 6\u001b[0m\n\u001b[1;32m      4\u001b[0m \u001b[38;5;28;01mimport\u001b[39;00m \u001b[38;5;21;01msys\u001b[39;00m\n\u001b[1;32m      5\u001b[0m sys\u001b[38;5;241m.\u001b[39mpath\u001b[38;5;241m.\u001b[39mappend(os\u001b[38;5;241m.\u001b[39mgetenv(\u001b[38;5;124m'\u001b[39m\u001b[38;5;124mSRC_DIR\u001b[39m\u001b[38;5;124m'\u001b[39m))\n\u001b[0;32m----> 6\u001b[0m \u001b[38;5;28;01mfrom\u001b[39;00m \u001b[38;5;21;01mlogger\u001b[39;00m \u001b[38;5;28;01mimport\u001b[39;00m get_logger\n\u001b[1;32m      7\u001b[0m _logs \u001b[38;5;241m=\u001b[39m get_logger(\u001b[38;5;18m__name__\u001b[39m)\n",
      "\u001b[0;31mImportError\u001b[0m: cannot import name 'get_logger' from 'logger' (/opt/anaconda3/envs/dsi_participant/lib/python3.9/site-packages/logger/__init__.py)"
     ]
    }
   ],
   "source": [
    "%load_ext dotenv\n",
    "%dotenv \n",
    "import os\n",
    "import sys\n",
    "sys.path.append(os.getenv('SRC_DIR'))\n",
    "from logger import get_logger\n",
    "_logs = get_logger(__name__)"
   ]
  },
  {
   "cell_type": "code",
   "execution_count": 11,
   "metadata": {},
   "outputs": [],
   "source": [
    "import dask.dataframe as dd\n",
    "import pandas as pd\n",
    "import numpy as np\n",
    "import os\n",
    "from glob import glob"
   ]
  },
  {
   "cell_type": "code",
   "execution_count": 12,
   "metadata": {},
   "outputs": [],
   "source": [
    "ft_dir = os.getenv(\"FEATURES_DATA\")\n",
    "ft_glob = glob(ft_dir+'/*.parquet')\n",
    "df = dd.read_parquet(ft_glob).compute().reset_index()"
   ]
  },
  {
   "cell_type": "markdown",
   "metadata": {},
   "source": [
    "# Sampling in Python"
   ]
  },
  {
   "cell_type": "markdown",
   "metadata": {},
   "source": [
    "+ There are different packages that allow sampling.\n",
    "+ A practical approach is to use pandas/Dask sampling methods."
   ]
  },
  {
   "cell_type": "markdown",
   "metadata": {},
   "source": [
    "## Random Sampling\n",
    "\n",
    "+ Sample n rows from a dataframe with [`df.sample()`](https://pandas.pydata.org/docs/reference/api/pandas.DataFrame.sample.html).\n",
    "\n",
    "```\n",
    "DataFrame.sample(\n",
    "    n=None, frac=None, replace=False, weights=None, \n",
    "    random_state=None, axis=None, ignore_index=False\n",
    "    )\n",
    "```"
   ]
  },
  {
   "cell_type": "code",
   "execution_count": 13,
   "metadata": {},
   "outputs": [
    {
     "data": {
      "text/html": [
       "<div>\n",
       "<style scoped>\n",
       "    .dataframe tbody tr th:only-of-type {\n",
       "        vertical-align: middle;\n",
       "    }\n",
       "\n",
       "    .dataframe tbody tr th {\n",
       "        vertical-align: top;\n",
       "    }\n",
       "\n",
       "    .dataframe thead th {\n",
       "        text-align: right;\n",
       "    }\n",
       "</style>\n",
       "<table border=\"1\" class=\"dataframe\">\n",
       "  <thead>\n",
       "    <tr style=\"text-align: right;\">\n",
       "      <th></th>\n",
       "      <th>Ticker</th>\n",
       "      <th>Date</th>\n",
       "      <th>Adj Close</th>\n",
       "      <th>Close</th>\n",
       "      <th>High</th>\n",
       "      <th>Low</th>\n",
       "      <th>Open</th>\n",
       "      <th>Volume</th>\n",
       "      <th>Year</th>\n",
       "      <th>Close_lag_1</th>\n",
       "      <th>Returns</th>\n",
       "    </tr>\n",
       "  </thead>\n",
       "  <tbody>\n",
       "    <tr>\n",
       "      <th>282302</th>\n",
       "      <td>NXPI</td>\n",
       "      <td>2019-08-02 00:00:00+00:00</td>\n",
       "      <td>92.392502</td>\n",
       "      <td>100.459999</td>\n",
       "      <td>100.820000</td>\n",
       "      <td>97.889999</td>\n",
       "      <td>99.559998</td>\n",
       "      <td>3231300.0</td>\n",
       "      <td>2019</td>\n",
       "      <td>100.000000</td>\n",
       "      <td>0.004600</td>\n",
       "    </tr>\n",
       "    <tr>\n",
       "      <th>42697</th>\n",
       "      <td>AMAT</td>\n",
       "      <td>2019-05-17 00:00:00+00:00</td>\n",
       "      <td>40.222389</td>\n",
       "      <td>42.700001</td>\n",
       "      <td>44.360001</td>\n",
       "      <td>42.570000</td>\n",
       "      <td>43.349998</td>\n",
       "      <td>20218200.0</td>\n",
       "      <td>2019</td>\n",
       "      <td>41.660000</td>\n",
       "      <td>0.024964</td>\n",
       "    </tr>\n",
       "    <tr>\n",
       "      <th>39099</th>\n",
       "      <td>AMAT</td>\n",
       "      <td>2005-01-31 00:00:00+00:00</td>\n",
       "      <td>11.633027</td>\n",
       "      <td>15.900000</td>\n",
       "      <td>16.400000</td>\n",
       "      <td>15.880000</td>\n",
       "      <td>16.280001</td>\n",
       "      <td>39572700.0</td>\n",
       "      <td>2005</td>\n",
       "      <td>16.040001</td>\n",
       "      <td>-0.008728</td>\n",
       "    </tr>\n",
       "    <tr>\n",
       "      <th>197717</th>\n",
       "      <td>JBL</td>\n",
       "      <td>2009-02-17 00:00:00+00:00</td>\n",
       "      <td>4.700566</td>\n",
       "      <td>5.710000</td>\n",
       "      <td>5.980000</td>\n",
       "      <td>5.650000</td>\n",
       "      <td>5.810000</td>\n",
       "      <td>2298700.0</td>\n",
       "      <td>2009</td>\n",
       "      <td>6.100000</td>\n",
       "      <td>-0.063934</td>\n",
       "    </tr>\n",
       "    <tr>\n",
       "      <th>100741</th>\n",
       "      <td>CSCO</td>\n",
       "      <td>2024-07-30 00:00:00+00:00</td>\n",
       "      <td>47.451538</td>\n",
       "      <td>48.139999</td>\n",
       "      <td>48.549999</td>\n",
       "      <td>47.889999</td>\n",
       "      <td>48.189999</td>\n",
       "      <td>20166000.0</td>\n",
       "      <td>2024</td>\n",
       "      <td>47.990002</td>\n",
       "      <td>0.003126</td>\n",
       "    </tr>\n",
       "  </tbody>\n",
       "</table>\n",
       "</div>"
      ],
      "text/plain": [
       "       Ticker                      Date  Adj Close       Close        High  \\\n",
       "282302   NXPI 2019-08-02 00:00:00+00:00  92.392502  100.459999  100.820000   \n",
       "42697    AMAT 2019-05-17 00:00:00+00:00  40.222389   42.700001   44.360001   \n",
       "39099    AMAT 2005-01-31 00:00:00+00:00  11.633027   15.900000   16.400000   \n",
       "197717    JBL 2009-02-17 00:00:00+00:00   4.700566    5.710000    5.980000   \n",
       "100741   CSCO 2024-07-30 00:00:00+00:00  47.451538   48.139999   48.549999   \n",
       "\n",
       "              Low       Open      Volume  Year  Close_lag_1   Returns  \n",
       "282302  97.889999  99.559998   3231300.0  2019   100.000000  0.004600  \n",
       "42697   42.570000  43.349998  20218200.0  2019    41.660000  0.024964  \n",
       "39099   15.880000  16.280001  39572700.0  2005    16.040001 -0.008728  \n",
       "197717   5.650000   5.810000   2298700.0  2009     6.100000 -0.063934  \n",
       "100741  47.889999  48.189999  20166000.0  2024    47.990002  0.003126  "
      ]
     },
     "execution_count": 13,
     "metadata": {},
     "output_type": "execute_result"
    }
   ],
   "source": [
    "df.sample(n = 5)"
   ]
  },
  {
   "cell_type": "code",
   "execution_count": 14,
   "metadata": {},
   "outputs": [
    {
     "data": {
      "text/plain": [
       "['OXY', 'TXN', 'PCG', 'CBRE', 'ROK', 'AMT', 'D', 'YUM', 'PWR']"
      ]
     },
     "execution_count": 14,
     "metadata": {},
     "output_type": "execute_result"
    }
   ],
   "source": [
    "# select_tickers = df['ticker'].unique().tolist()[0:9]\n",
    "select_tickers = ['OXY', 'TXN', 'PCG', 'CBRE', 'ROK', 'AMT', 'D', 'YUM', 'PWR']\n",
    "select_tickers"
   ]
  },
  {
   "cell_type": "code",
   "execution_count": 16,
   "metadata": {},
   "outputs": [
    {
     "data": {
      "text/html": [
       "<div>\n",
       "<style scoped>\n",
       "    .dataframe tbody tr th:only-of-type {\n",
       "        vertical-align: middle;\n",
       "    }\n",
       "\n",
       "    .dataframe tbody tr th {\n",
       "        vertical-align: top;\n",
       "    }\n",
       "\n",
       "    .dataframe thead th {\n",
       "        text-align: right;\n",
       "    }\n",
       "</style>\n",
       "<table border=\"1\" class=\"dataframe\">\n",
       "  <thead>\n",
       "    <tr style=\"text-align: right;\">\n",
       "      <th></th>\n",
       "      <th>Ticker</th>\n",
       "      <th>Date</th>\n",
       "      <th>Adj Close</th>\n",
       "      <th>Close</th>\n",
       "      <th>High</th>\n",
       "      <th>Low</th>\n",
       "      <th>Open</th>\n",
       "      <th>Volume</th>\n",
       "      <th>Year</th>\n",
       "      <th>Close_lag_1</th>\n",
       "      <th>Returns</th>\n",
       "    </tr>\n",
       "  </thead>\n",
       "  <tbody>\n",
       "    <tr>\n",
       "      <th>0</th>\n",
       "      <td>AAPL</td>\n",
       "      <td>2000-01-03 00:00:00+00:00</td>\n",
       "      <td>0.843077</td>\n",
       "      <td>0.999442</td>\n",
       "      <td>1.004464</td>\n",
       "      <td>0.907924</td>\n",
       "      <td>0.936384</td>\n",
       "      <td>535796800.0</td>\n",
       "      <td>2000</td>\n",
       "      <td>NaN</td>\n",
       "      <td>NaN</td>\n",
       "    </tr>\n",
       "    <tr>\n",
       "      <th>1</th>\n",
       "      <td>AAPL</td>\n",
       "      <td>2000-01-04 00:00:00+00:00</td>\n",
       "      <td>0.771997</td>\n",
       "      <td>0.915179</td>\n",
       "      <td>0.987723</td>\n",
       "      <td>0.903460</td>\n",
       "      <td>0.966518</td>\n",
       "      <td>512377600.0</td>\n",
       "      <td>2000</td>\n",
       "      <td>0.999442</td>\n",
       "      <td>-0.084310</td>\n",
       "    </tr>\n",
       "    <tr>\n",
       "      <th>2</th>\n",
       "      <td>AAPL</td>\n",
       "      <td>2000-01-05 00:00:00+00:00</td>\n",
       "      <td>0.783293</td>\n",
       "      <td>0.928571</td>\n",
       "      <td>0.987165</td>\n",
       "      <td>0.919643</td>\n",
       "      <td>0.926339</td>\n",
       "      <td>778321600.0</td>\n",
       "      <td>2000</td>\n",
       "      <td>0.915179</td>\n",
       "      <td>0.014633</td>\n",
       "    </tr>\n",
       "    <tr>\n",
       "      <th>3</th>\n",
       "      <td>AAPL</td>\n",
       "      <td>2000-01-06 00:00:00+00:00</td>\n",
       "      <td>0.715508</td>\n",
       "      <td>0.848214</td>\n",
       "      <td>0.955357</td>\n",
       "      <td>0.848214</td>\n",
       "      <td>0.947545</td>\n",
       "      <td>767972800.0</td>\n",
       "      <td>2000</td>\n",
       "      <td>0.928571</td>\n",
       "      <td>-0.086538</td>\n",
       "    </tr>\n",
       "    <tr>\n",
       "      <th>4</th>\n",
       "      <td>AAPL</td>\n",
       "      <td>2000-01-07 00:00:00+00:00</td>\n",
       "      <td>0.749401</td>\n",
       "      <td>0.888393</td>\n",
       "      <td>0.901786</td>\n",
       "      <td>0.852679</td>\n",
       "      <td>0.861607</td>\n",
       "      <td>460734400.0</td>\n",
       "      <td>2000</td>\n",
       "      <td>0.848214</td>\n",
       "      <td>0.047369</td>\n",
       "    </tr>\n",
       "    <tr>\n",
       "      <th>...</th>\n",
       "      <td>...</td>\n",
       "      <td>...</td>\n",
       "      <td>...</td>\n",
       "      <td>...</td>\n",
       "      <td>...</td>\n",
       "      <td>...</td>\n",
       "      <td>...</td>\n",
       "      <td>...</td>\n",
       "      <td>...</td>\n",
       "      <td>...</td>\n",
       "      <td>...</td>\n",
       "    </tr>\n",
       "    <tr>\n",
       "      <th>403451</th>\n",
       "      <td>ZBRA</td>\n",
       "      <td>2025-01-17 00:00:00+00:00</td>\n",
       "      <td>405.709991</td>\n",
       "      <td>405.709991</td>\n",
       "      <td>407.290009</td>\n",
       "      <td>402.290009</td>\n",
       "      <td>406.040009</td>\n",
       "      <td>270600.0</td>\n",
       "      <td>2025</td>\n",
       "      <td>402.720001</td>\n",
       "      <td>0.007424</td>\n",
       "    </tr>\n",
       "    <tr>\n",
       "      <th>403452</th>\n",
       "      <td>ZBRA</td>\n",
       "      <td>2025-01-21 00:00:00+00:00</td>\n",
       "      <td>418.070007</td>\n",
       "      <td>418.070007</td>\n",
       "      <td>419.850006</td>\n",
       "      <td>407.619995</td>\n",
       "      <td>407.619995</td>\n",
       "      <td>446000.0</td>\n",
       "      <td>2025</td>\n",
       "      <td>405.709991</td>\n",
       "      <td>0.030465</td>\n",
       "    </tr>\n",
       "    <tr>\n",
       "      <th>403453</th>\n",
       "      <td>ZBRA</td>\n",
       "      <td>2025-01-22 00:00:00+00:00</td>\n",
       "      <td>420.570007</td>\n",
       "      <td>420.570007</td>\n",
       "      <td>427.760010</td>\n",
       "      <td>419.589996</td>\n",
       "      <td>425.239990</td>\n",
       "      <td>497500.0</td>\n",
       "      <td>2025</td>\n",
       "      <td>418.070007</td>\n",
       "      <td>0.005980</td>\n",
       "    </tr>\n",
       "    <tr>\n",
       "      <th>403454</th>\n",
       "      <td>ZBRA</td>\n",
       "      <td>2025-01-23 00:00:00+00:00</td>\n",
       "      <td>421.109985</td>\n",
       "      <td>421.109985</td>\n",
       "      <td>422.290009</td>\n",
       "      <td>414.450012</td>\n",
       "      <td>417.619995</td>\n",
       "      <td>377100.0</td>\n",
       "      <td>2025</td>\n",
       "      <td>420.570007</td>\n",
       "      <td>0.001284</td>\n",
       "    </tr>\n",
       "    <tr>\n",
       "      <th>403455</th>\n",
       "      <td>ZBRA</td>\n",
       "      <td>2025-01-24 00:00:00+00:00</td>\n",
       "      <td>414.609985</td>\n",
       "      <td>414.609985</td>\n",
       "      <td>420.079987</td>\n",
       "      <td>413.739990</td>\n",
       "      <td>419.059998</td>\n",
       "      <td>258900.0</td>\n",
       "      <td>2025</td>\n",
       "      <td>421.109985</td>\n",
       "      <td>-0.015435</td>\n",
       "    </tr>\n",
       "  </tbody>\n",
       "</table>\n",
       "<p>403456 rows × 11 columns</p>\n",
       "</div>"
      ],
      "text/plain": [
       "       Ticker                      Date   Adj Close       Close        High  \\\n",
       "0        AAPL 2000-01-03 00:00:00+00:00    0.843077    0.999442    1.004464   \n",
       "1        AAPL 2000-01-04 00:00:00+00:00    0.771997    0.915179    0.987723   \n",
       "2        AAPL 2000-01-05 00:00:00+00:00    0.783293    0.928571    0.987165   \n",
       "3        AAPL 2000-01-06 00:00:00+00:00    0.715508    0.848214    0.955357   \n",
       "4        AAPL 2000-01-07 00:00:00+00:00    0.749401    0.888393    0.901786   \n",
       "...       ...                       ...         ...         ...         ...   \n",
       "403451   ZBRA 2025-01-17 00:00:00+00:00  405.709991  405.709991  407.290009   \n",
       "403452   ZBRA 2025-01-21 00:00:00+00:00  418.070007  418.070007  419.850006   \n",
       "403453   ZBRA 2025-01-22 00:00:00+00:00  420.570007  420.570007  427.760010   \n",
       "403454   ZBRA 2025-01-23 00:00:00+00:00  421.109985  421.109985  422.290009   \n",
       "403455   ZBRA 2025-01-24 00:00:00+00:00  414.609985  414.609985  420.079987   \n",
       "\n",
       "               Low        Open       Volume  Year  Close_lag_1   Returns  \n",
       "0         0.907924    0.936384  535796800.0  2000          NaN       NaN  \n",
       "1         0.903460    0.966518  512377600.0  2000     0.999442 -0.084310  \n",
       "2         0.919643    0.926339  778321600.0  2000     0.915179  0.014633  \n",
       "3         0.848214    0.947545  767972800.0  2000     0.928571 -0.086538  \n",
       "4         0.852679    0.861607  460734400.0  2000     0.848214  0.047369  \n",
       "...            ...         ...          ...   ...          ...       ...  \n",
       "403451  402.290009  406.040009     270600.0  2025   402.720001  0.007424  \n",
       "403452  407.619995  407.619995     446000.0  2025   405.709991  0.030465  \n",
       "403453  419.589996  425.239990     497500.0  2025   418.070007  0.005980  \n",
       "403454  414.450012  417.619995     377100.0  2025   420.570007  0.001284  \n",
       "403455  413.739990  419.059998     258900.0  2025   421.109985 -0.015435  \n",
       "\n",
       "[403456 rows x 11 columns]"
      ]
     },
     "execution_count": 16,
     "metadata": {},
     "output_type": "execute_result"
    }
   ],
   "source": [
    "df"
   ]
  },
  {
   "cell_type": "code",
   "execution_count": 17,
   "metadata": {},
   "outputs": [
    {
     "data": {
      "text/plain": [
       "((630, 11), (6304, 11))"
      ]
     },
     "execution_count": 17,
     "metadata": {},
     "output_type": "execute_result"
    }
   ],
   "source": [
    "idx = df['Ticker'].isin(select_tickers)\n",
    "small_df = df[idx]\n",
    "simple_sample_dt = small_df.sample(frac = 0.1)\n",
    "simple_sample_dt.shape, small_df.shape"
   ]
  },
  {
   "cell_type": "markdown",
   "metadata": {},
   "source": [
    "Look at the distribution of tickers."
   ]
  },
  {
   "cell_type": "code",
   "execution_count": 18,
   "metadata": {},
   "outputs": [
    {
     "data": {
      "text/plain": [
       "<Axes: xlabel='Ticker'>"
      ]
     },
     "execution_count": 18,
     "metadata": {},
     "output_type": "execute_result"
    },
    {
     "data": {
      "image/png": "[encoded data removed]",
      "text/plain": [
       "<Figure size 640x480 with 1 Axes>"
      ]
     },
     "metadata": {},
     "output_type": "display_data"
    }
   ],
   "source": [
    "small_df['Ticker'].value_counts().plot(kind='bar')"
   ]
  },
  {
   "cell_type": "code",
   "execution_count": 19,
   "metadata": {},
   "outputs": [
    {
     "data": {
      "text/plain": [
       "<Axes: xlabel='Ticker'>"
      ]
     },
     "execution_count": 19,
     "metadata": {},
     "output_type": "execute_result"
    },
    {
     "data": {
      "image/png": "[encoded data removed]",
      "text/plain": [
       "<Figure size 640x480 with 1 Axes>"
      ]
     },
     "metadata": {},
     "output_type": "display_data"
    }
   ],
   "source": [
    "simple_sample_dt['Ticker'].value_counts().plot(kind='bar')"
   ]
  },
  {
   "cell_type": "markdown",
   "metadata": {},
   "source": [
    "## Stratified Sampling\n",
    "\n",
    "+ Use `groupby()` and `.sample()` for stratified sampling."
   ]
  },
  {
   "cell_type": "code",
   "execution_count": 20,
   "metadata": {},
   "outputs": [
    {
     "data": {
      "text/plain": [
       "<Axes: xlabel='Ticker'>"
      ]
     },
     "execution_count": 20,
     "metadata": {},
     "output_type": "execute_result"
    },
    {
     "data": {
      "image/png": "[encoded data removed]",
      "text/plain": [
       "<Figure size 640x480 with 1 Axes>"
      ]
     },
     "metadata": {},
     "output_type": "display_data"
    }
   ],
   "source": [
    "strat_sample_dt = small_df.groupby(['Ticker']).sample(frac = 0.1)\n",
    "strat_sample_dt['Ticker'].value_counts().plot(kind='bar')"
   ]
  },
  {
   "cell_type": "markdown",
   "metadata": {},
   "source": [
    "# Sampling in Dask\n",
    "\n",
    "+ Stratified sampling in `dask` can be achieved with `groupby().apply()` and a lambda function."
   ]
  },
  {
   "cell_type": "code",
   "execution_count": 22,
   "metadata": {},
   "outputs": [
    {
     "name": "stderr",
     "output_type": "stream",
     "text": [
      "/var/folders/ct/7p_jm4ss0f70mkwznhhwhj340000gn/T/ipykernel_11336/2388710987.py:2: UserWarning: `meta` is not specified, inferred from partial data. Please provide `meta` if the result is unexpected.\n",
      "  Before: .apply(func)\n",
      "  After:  .apply(func, meta={'x': 'f8', 'y': 'f8'}) for dataframe result\n",
      "  or:     .apply(func, meta=('x', 'f8'))            for series result\n",
      "  strat_sample_dd_dt = (dd_dt\n"
     ]
    },
    {
     "data": {
      "text/plain": [
       "<Axes: xlabel='Ticker'>"
      ]
     },
     "execution_count": 22,
     "metadata": {},
     "output_type": "execute_result"
    },
    {
     "data": {
      "image/png": "[encoded data removed]",
      "text/plain": [
       "<Figure size 640x480 with 1 Axes>"
      ]
     },
     "metadata": {},
     "output_type": "display_data"
    }
   ],
   "source": [
    "dd_dt = dd.read_parquet(ft_glob)\n",
    "strat_sample_dd_dt = (dd_dt\n",
    "                      .groupby('Ticker', group_keys=False)\n",
    "                      .apply(lambda x: x.sample(frac = 0.1))\n",
    "                      .compute()\n",
    "                      .reset_index())\n",
    "strat_sample_dd_dt[strat_sample_dd_dt['Ticker'].isin(select_tickers)]['Ticker'].value_counts().plot(kind='bar')"
   ]
  },
  {
   "cell_type": "code",
   "execution_count": null,
   "metadata": {},
   "outputs": [],
   "source": []
  }
 ],
 "metadata": {
  "kernelspec": {
   "display_name": "dsi_participant",
   "language": "python",
   "name": "python3"
  },
  "language_info": {
   "codemirror_mode": {
    "name": "ipython",
    "version": 3
   },
   "file_extension": ".py",
   "mimetype": "text/x-python",
   "name": "python",
   "nbconvert_exporter": "python",
   "pygments_lexer": "ipython3",
   "version": "3.9.18"
  }
 },
 "nbformat": 4,
 "nbformat_minor": 2
}
