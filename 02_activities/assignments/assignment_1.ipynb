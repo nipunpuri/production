{
 "cells": [
  {
   "cell_type": "markdown",
   "metadata": {},
   "source": [
    "# Working with parquet files\n",
    "\n",
    "## Objective\n",
    "\n",
    "+ In this assignment, we will use the data downloaded with the module `data_manager` to create features.\n",
    "\n",
    "(11 pts total)\n",
    "\n",
    "## Prerequisites\n",
    "\n",
    "+ This notebook assumes that price data is available to you in the environment variable `PRICE_DATA`. If you have not done so, then execute the notebook `01_materials/labs/2_data_engineering.ipynb` to create this data set.\n"
   ]
  },
  {
   "cell_type": "markdown",
   "metadata": {},
   "source": [
    "+ Load the environment variables using dotenv. (1 pt)"
   ]
  },
  {
   "cell_type": "code",
   "execution_count": 7,
   "metadata": {},
   "outputs": [
    {
     "name": "stdout",
     "output_type": "stream",
     "text": [
      "The dotenv extension is already loaded. To reload it, use:\n",
      "  %reload_ext dotenv\n"
     ]
    }
   ],
   "source": [
    "# Write your code below.\n",
    "%load_ext dotenv\n",
    "%dotenv\n",
    "\n"
   ]
  },
  {
   "cell_type": "code",
   "execution_count": 8,
   "metadata": {},
   "outputs": [],
   "source": [
    "import dask.dataframe as dd"
   ]
  },
  {
   "cell_type": "markdown",
   "metadata": {},
   "source": [
    "+ Load the environment variable `PRICE_DATA`.\n",
    "+ Use [glob](https://docs.python.org/3/library/glob.html) to find the path of all parquet files in the directory `PRICE_DATA`.\n",
    "\n",
    "(1pt)"
   ]
  },
  {
   "cell_type": "code",
   "execution_count": 10,
   "metadata": {},
   "outputs": [],
   "source": [
    "import os\n",
    "from glob import glob\n",
    "\n",
    "# Write your code below.\n",
    "PRICE_DATA = os.getenv(\"PRICE_DATA\")\n",
    "parquet_files = glob(os.path.join(PRICE_DATA, \"**/*.parquet\"), recursive = True)\n",
    "\n"
   ]
  },
  {
   "cell_type": "markdown",
   "metadata": {},
   "source": [
    "For each ticker and using Dask, do the following:\n",
    "\n",
    "+ Add lags for variables Close and Adj_Close.\n",
    "+ Add returns based on Close:\n",
    "    \n",
    "    - `returns`: (Close / Close_lag_1) - 1\n",
    "\n",
    "+ Add the following range: \n",
    "\n",
    "    - `hi_lo_range`: this is the day's High minus Low.\n",
    "\n",
    "+ Assign the result to `dd_feat`.\n",
    "\n",
    "(4 pt)"
   ]
  },
  {
   "cell_type": "code",
   "execution_count": 13,
   "metadata": {},
   "outputs": [
    {
     "name": "stderr",
     "output_type": "stream",
     "text": [
      "/var/folders/ct/7p_jm4ss0f70mkwznhhwhj340000gn/T/ipykernel_25344/2873430075.py:6: UserWarning: `meta` is not specified, inferred from partial data. Please provide `meta` if the result is unexpected.\n",
      "  Before: .apply(func)\n",
      "  After:  .apply(func, meta={'x': 'f8', 'y': 'f8'}) for dataframe result\n",
      "  or:     .apply(func, meta=('x', 'f8'))            for series result\n",
      "  dd_lags_close = dd_px.groupby('Ticker', group_keys=False).apply(\n",
      "/var/folders/ct/7p_jm4ss0f70mkwznhhwhj340000gn/T/ipykernel_25344/2873430075.py:10: UserWarning: `meta` is not specified, inferred from partial data. Please provide `meta` if the result is unexpected.\n",
      "  Before: .apply(func)\n",
      "  After:  .apply(func, meta={'x': 'f8', 'y': 'f8'}) for dataframe result\n",
      "  or:     .apply(func, meta=('x', 'f8'))            for series result\n",
      "  dd_lags_AdjClose = dd_px.groupby('Ticker', group_keys=False).apply(\n",
      "/var/folders/ct/7p_jm4ss0f70mkwznhhwhj340000gn/T/ipykernel_25344/2873430075.py:23: UserWarning: `meta` is not specified, inferred from partial data. Please provide `meta` if the result is unexpected.\n",
      "  Before: .apply(func)\n",
      "  After:  .apply(func, meta={'x': 'f8', 'y': 'f8'}) for dataframe result\n",
      "  or:     .apply(func, meta=('x', 'f8'))            for series result\n",
      "  dd_lags_hi_lo = dd_px.groupby('Ticker', group_keys=False).apply(\n"
     ]
    }
   ],
   "source": [
    "# Write your code below.\n",
    "\n",
    "dd_px = dd.read_parquet(parquet_files).set_index(\"Ticker\")\n",
    "\n",
    "# adding lags for variable Close\n",
    "dd_lags_close = dd_px.groupby('Ticker', group_keys=False).apply(\n",
    "    lambda x: x.assign(Close_lag_1 = x['Close'].shift(1))  \n",
    ") #For each ticker, we are adding a column called Close_lag_1 which is the previous day's Close price\n",
    "# adding lags for variable Adj Close\n",
    "dd_lags_AdjClose = dd_px.groupby('Ticker', group_keys=False).apply(\n",
    "    lambda x: x.assign(AdjClose_lag_1 = x['Adj Close'].shift(1))  \n",
    ") #prev day Adj Close price for each ticker\n",
    "# adding returns for variable Close\n",
    "dd_rets1 = dd_lags_close.assign(\n",
    "    Close_returns = lambda x: x['Close'] / x['Close_lag_1'] - 1  \n",
    ") #returns for each row in the Close column\n",
    "# adding returns for variable Adj Close\n",
    "\n",
    "dd_rets2 = dd_lags_AdjClose.assign(\n",
    "    Adj_Close_returns = lambda x: x['Adj Close'] / x['AdjClose_lag_1'] - 1  \n",
    ") #same thing but for Adj Close\n",
    "# adding hi_lo_range\n",
    "dd_lags_hi_lo = dd_px.groupby('Ticker', group_keys=False).apply(\n",
    "    lambda x: x.assign(hi_lo_range = x['High'] - x['Low'])  \n",
    ") #hi-low range for each ticker\n",
    "\n",
    "dd_feat = dd.concat([dd_rets1, dd_rets2[['Adj_Close_returns']], dd_lags_hi_lo[['hi_lo_range']]], axis=1)"
   ]
  },
  {
   "cell_type": "markdown",
   "metadata": {},
   "source": [
    "+ Convert the Dask data frame to a pandas data frame. \n",
    "+ Add a new feature containing the moving average of `returns` using a window of 10 days. There are several ways to solve this task, a simple one uses `.rolling(10).mean()`.\n",
    "\n",
    "(3 pt)"
   ]
  },
  {
   "cell_type": "code",
   "execution_count": 14,
   "metadata": {},
   "outputs": [
    {
     "name": "stderr",
     "output_type": "stream",
     "text": [
      "/opt/anaconda3/envs/dsi_participant/lib/python3.9/site-packages/dask_expr/_concat.py:146: UserWarning: Concatenating dataframes with unknown divisions.\n",
      "We're assuming that the indices of each dataframes are \n",
      " aligned. This assumption is not generally safe.\n",
      "  warnings.warn(\n"
     ]
    },
    {
     "name": "stdout",
     "output_type": "stream",
     "text": [
      "Price                       Date  Adj Close      Close       High        Low  \\\n",
      "Ticker                                                                         \n",
      "DOV    2017-01-03 00:00:00+00:00  53.950459  61.728596  62.625202  60.920841   \n",
      "DOV    2017-01-04 00:00:00+00:00  54.204605  62.019386  62.075928  61.445881   \n",
      "DOV    2017-01-05 00:00:00+00:00  54.028111  61.817448  62.431339  61.074314   \n",
      "DOV    2017-01-06 00:00:00+00:00  54.868214  62.778675  63.780293  62.390953   \n",
      "DOV    2017-01-09 00:00:00+00:00  54.162254  61.970921  62.924072  61.744751   \n",
      "\n",
      "Price        Open     Volume  Year  Close_lag_1  Close_returns  \\\n",
      "Ticker                                                           \n",
      "DOV     61.639744  1637998.0  2017          NaN            NaN   \n",
      "DOV     61.882069  1165948.0  2017    61.728596       0.004711   \n",
      "DOV     61.793217  1155178.0  2017    62.019386      -0.003256   \n",
      "DOV     62.463650  3123350.0  2017    61.817448       0.015549   \n",
      "DOV     62.705978  1271055.0  2017    62.778675      -0.012867   \n",
      "\n",
      "Price   Adj_Close_returns  hi_lo_range   returns  returns_ma  \n",
      "Ticker                                                        \n",
      "DOV                   NaN     1.704361       NaN         NaN  \n",
      "DOV              0.004711     0.630047  0.004711    0.004711  \n",
      "DOV             -0.003256     1.357025 -0.003256    0.000727  \n",
      "DOV              0.015549     1.389339  0.015549    0.005668  \n",
      "DOV             -0.012866     1.179321 -0.012867    0.001034  \n"
     ]
    }
   ],
   "source": [
    "# Write your code below.\n",
    "\n",
    "import dask.dataframe as dd\n",
    "\n",
    "# Function to apply rolling mean on each partition\n",
    "def rolling_mean_partition(df):\n",
    "    # Ensure that 'returns' column exists before applying rolling\n",
    "    df['returns'] = df['Close_returns'].combine_first(df['Adj_Close_returns'])\n",
    "    \n",
    "    # Apply rolling mean on the 'returns' column\n",
    "    df['returns_ma'] = df['returns'].rolling(10, min_periods=1).mean()\n",
    "    return df\n",
    "\n",
    "# Apply the function to each partition using map_partitions\n",
    "dd_feat = dd_feat.map_partitions(rolling_mean_partition)\n",
    "\n",
    "# Compute the final DataFrame\n",
    "dd_feat_pd = dd_feat.compute()\n",
    "\n",
    "# Print the result\n",
    "print(dd_feat_pd.head())\n",
    "\n"
   ]
  },
  {
   "cell_type": "markdown",
   "metadata": {},
   "source": [
    "Please comment:\n",
    "\n",
    "+ Was it necessary to convert to pandas to calculate the moving average return? - No. I created similar features in the previous step. Pandas make sense when we are working with a smaller dataset. Or to make the code easier to read for other colleagues.\n",
    "+ Would it have been better to do it in Dask? Why? - It took me more than 2 minutes to create these features in pandas, it took only a fraction of a second in dask. Computationally the features are similar. Dask is faster because it runs in parallel. But pandas is slower. But pandas code is easier to read.\n",
    "\n",
    "(1 pt)"
   ]
  },
  {
   "cell_type": "markdown",
   "metadata": {},
   "source": [
    "## Criteria\n",
    "\n",
    "The [rubric](./assignment_1_rubric_clean.xlsx) contains the criteria for grading."
   ]
  },
  {
   "cell_type": "markdown",
   "metadata": {},
   "source": [
    "## Submission Information\n",
    "\n",
    "🚨 **Please review our [Assignment Submission Guide](https://github.com/UofT-DSI/onboarding/blob/main/onboarding_documents/submissions.md)** 🚨 for detailed instructions on how to format, branch, and submit your work. Following these guidelines is crucial for your submissions to be evaluated correctly.\n",
    "\n",
    "### Submission Parameters:\n",
    "* Submission Due Date: `HH:MM AM/PM - DD/MM/YYYY`\n",
    "* The branch name for your repo should be: `assignment-1`\n",
    "* What to submit for this assignment:\n",
    "    * This Jupyter Notebook (assignment_1.ipynb) should be populated and should be the only change in your pull request.\n",
    "* What the pull request link should look like for this assignment: `https://github.com/<your_github_username>/production/pull/<pr_id>`\n",
    "    * Open a private window in your browser. Copy and paste the link to your pull request into the address bar. Make sure you can see your pull request properly. This helps the technical facilitator and learning support staff review your submission easily.\n",
    "\n",
    "Checklist:\n",
    "- [ ] Created a branch with the correct naming convention.\n",
    "- [ ] Ensured that the repository is public.\n",
    "- [ ] Reviewed the PR description guidelines and adhered to them.\n",
    "- [ ] Verify that the link is accessible in a private browser window.\n",
    "\n",
    "If you encounter any difficulties or have questions, please don't hesitate to reach out to our team via our Slack at `#cohort-3-help`. Our Technical Facilitators and Learning Support staff are here to help you navigate any challenges."
   ]
  }
 ],
 "metadata": {
  "kernelspec": {
   "display_name": "dsi_participant",
   "language": "python",
   "name": "python3"
  },
  "language_info": {
   "codemirror_mode": {
    "name": "ipython",
    "version": 3
   },
   "file_extension": ".py",
   "mimetype": "text/x-python",
   "name": "python",
   "nbconvert_exporter": "python",
   "pygments_lexer": "ipython3",
   "version": "3.9.18"
  }
 },
 "nbformat": 4,
 "nbformat_minor": 2
}
